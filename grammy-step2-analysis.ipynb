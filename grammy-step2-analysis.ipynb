{
 "cells": [
  {
   "cell_type": "code",
   "execution_count": 1,
   "id": "46a80aea",
   "metadata": {},
   "outputs": [],
   "source": [
    "import pandas as pd\n",
    "import re"
   ]
  },
  {
   "cell_type": "code",
   "execution_count": 2,
   "id": "989eb037",
   "metadata": {},
   "outputs": [],
   "source": [
    "df = pd.read_csv(\"all-three-awards.csv\")\n",
    "ethnic = pd.read_csv('2022-1990-ethnicity-lookup.csv')"
   ]
  },
  {
   "cell_type": "code",
   "execution_count": 3,
   "id": "f30f1ecc",
   "metadata": {},
   "outputs": [
    {
     "data": {
      "text/plain": [
       "year                 int64\n",
       "musician            object\n",
       "work                object\n",
       "category            object\n",
       "status              object\n",
       "cleaned_musician    object\n",
       "dtype: object"
      ]
     },
     "execution_count": 3,
     "metadata": {},
     "output_type": "execute_result"
    }
   ],
   "source": [
    "# Fix datatype for year column\n",
    "df['year'] = df['year'].astype(int)\n",
    "df.dtypes"
   ]
  },
  {
   "cell_type": "code",
   "execution_count": 4,
   "id": "7c16615e",
   "metadata": {},
   "outputs": [],
   "source": [
    "# Only select Grammys from 1990 to 2023\n",
    "df = df[df.year>1989]"
   ]
  },
  {
   "cell_type": "code",
   "execution_count": 5,
   "id": "1c26c46e",
   "metadata": {
    "scrolled": true
   },
   "outputs": [
    {
     "data": {
      "text/html": [
       "<div>\n",
       "<style scoped>\n",
       "    .dataframe tbody tr th:only-of-type {\n",
       "        vertical-align: middle;\n",
       "    }\n",
       "\n",
       "    .dataframe tbody tr th {\n",
       "        vertical-align: top;\n",
       "    }\n",
       "\n",
       "    .dataframe thead th {\n",
       "        text-align: right;\n",
       "    }\n",
       "</style>\n",
       "<table border=\"1\" class=\"dataframe\">\n",
       "  <thead>\n",
       "    <tr style=\"text-align: right;\">\n",
       "      <th></th>\n",
       "      <th>year</th>\n",
       "      <th>musician_x</th>\n",
       "      <th>work</th>\n",
       "      <th>category</th>\n",
       "      <th>status</th>\n",
       "      <th>cleaned_musician</th>\n",
       "      <th>musician_y</th>\n",
       "      <th>ethnicity</th>\n",
       "      <th>shared_award</th>\n",
       "      <th>Column1</th>\n",
       "    </tr>\n",
       "  </thead>\n",
       "  <tbody>\n",
       "    <tr>\n",
       "      <th>0</th>\n",
       "      <td>2022</td>\n",
       "      <td>Jon Batiste</td>\n",
       "      <td>We Are</td>\n",
       "      <td>album-of-the-year</td>\n",
       "      <td>winner</td>\n",
       "      <td>Jon Batiste</td>\n",
       "      <td>Jon Batiste</td>\n",
       "      <td>UR</td>\n",
       "      <td>NaN</td>\n",
       "      <td>NaN</td>\n",
       "    </tr>\n",
       "    <tr>\n",
       "      <th>1</th>\n",
       "      <td>2022</td>\n",
       "      <td>Tony Bennett &amp; Lady Gaga</td>\n",
       "      <td>Love for Sale</td>\n",
       "      <td>album-of-the-year</td>\n",
       "      <td>nominee</td>\n",
       "      <td>Tony Bennett  Lady Gaga</td>\n",
       "      <td>Tony Bennett &amp; Lady Gaga</td>\n",
       "      <td>white</td>\n",
       "      <td>NaN</td>\n",
       "      <td>NaN</td>\n",
       "    </tr>\n",
       "  </tbody>\n",
       "</table>\n",
       "</div>"
      ],
      "text/plain": [
       "   year                musician_x           work           category   status  \\\n",
       "0  2022               Jon Batiste         We Are  album-of-the-year   winner   \n",
       "1  2022  Tony Bennett & Lady Gaga  Love for Sale  album-of-the-year  nominee   \n",
       "\n",
       "          cleaned_musician                musician_y ethnicity shared_award  \\\n",
       "0              Jon Batiste               Jon Batiste        UR          NaN   \n",
       "1  Tony Bennett  Lady Gaga  Tony Bennett & Lady Gaga     white          NaN   \n",
       "\n",
       "   Column1  \n",
       "0      NaN  \n",
       "1      NaN  "
      ]
     },
     "execution_count": 5,
     "metadata": {},
     "output_type": "execute_result"
    }
   ],
   "source": [
    "# merge the two dataframes together\n",
    "merged = pd.merge(df, ethnic, how='left', on='cleaned_musician')\n",
    "merged.head(2)"
   ]
  },
  {
   "cell_type": "code",
   "execution_count": 6,
   "id": "b57d4651",
   "metadata": {
    "scrolled": true
   },
   "outputs": [
    {
     "data": {
      "text/html": [
       "<div>\n",
       "<style scoped>\n",
       "    .dataframe tbody tr th:only-of-type {\n",
       "        vertical-align: middle;\n",
       "    }\n",
       "\n",
       "    .dataframe tbody tr th {\n",
       "        vertical-align: top;\n",
       "    }\n",
       "\n",
       "    .dataframe thead th {\n",
       "        text-align: right;\n",
       "    }\n",
       "</style>\n",
       "<table border=\"1\" class=\"dataframe\">\n",
       "  <thead>\n",
       "    <tr style=\"text-align: right;\">\n",
       "      <th></th>\n",
       "      <th>year</th>\n",
       "      <th>musician_x</th>\n",
       "      <th>work</th>\n",
       "      <th>category</th>\n",
       "      <th>status</th>\n",
       "      <th>cleaned_musician</th>\n",
       "      <th>musician_y</th>\n",
       "      <th>ethnicity</th>\n",
       "      <th>shared_award</th>\n",
       "      <th>Column1</th>\n",
       "    </tr>\n",
       "  </thead>\n",
       "  <tbody>\n",
       "    <tr>\n",
       "      <th>143</th>\n",
       "      <td>1997</td>\n",
       "      <td>soundtrack</td>\n",
       "      <td>Waiting to Exhale</td>\n",
       "      <td>album-of-the-year</td>\n",
       "      <td>nominee</td>\n",
       "      <td>soundtrack</td>\n",
       "      <td>soundtrack</td>\n",
       "      <td>NaN</td>\n",
       "      <td>NaN</td>\n",
       "      <td>NaN</td>\n",
       "    </tr>\n",
       "    <tr>\n",
       "      <th>163</th>\n",
       "      <td>1993</td>\n",
       "      <td>soundtrack</td>\n",
       "      <td>Beauty and the Beast</td>\n",
       "      <td>album-of-the-year</td>\n",
       "      <td>nominee</td>\n",
       "      <td>soundtrack</td>\n",
       "      <td>soundtrack</td>\n",
       "      <td>NaN</td>\n",
       "      <td>NaN</td>\n",
       "      <td>NaN</td>\n",
       "    </tr>\n",
       "  </tbody>\n",
       "</table>\n",
       "</div>"
      ],
      "text/plain": [
       "     year  musician_x                  work           category   status  \\\n",
       "143  1997  soundtrack     Waiting to Exhale  album-of-the-year  nominee   \n",
       "163  1993  soundtrack  Beauty and the Beast  album-of-the-year  nominee   \n",
       "\n",
       "    cleaned_musician  musician_y ethnicity shared_award  Column1  \n",
       "143       soundtrack  soundtrack       NaN          NaN      NaN  \n",
       "163       soundtrack  soundtrack       NaN          NaN      NaN  "
      ]
     },
     "execution_count": 6,
     "metadata": {},
     "output_type": "execute_result"
    }
   ],
   "source": [
    "# Fix NA values in ethnicity column\n",
    "merged[merged.cleaned_musician=='soundtrack']"
   ]
  },
  {
   "cell_type": "code",
   "execution_count": 7,
   "id": "98b04a18",
   "metadata": {},
   "outputs": [],
   "source": [
    "# Add ethnicity info for albums with musician \"soundtrack\"\n",
    "merged.at[143,'ethnicity']='UR'\n",
    "merged.at[163,'ethnicity']='white'"
   ]
  },
  {
   "cell_type": "code",
   "execution_count": 8,
   "id": "10ce7b5c",
   "metadata": {},
   "outputs": [
    {
     "data": {
      "text/html": [
       "<div>\n",
       "<style scoped>\n",
       "    .dataframe tbody tr th:only-of-type {\n",
       "        vertical-align: middle;\n",
       "    }\n",
       "\n",
       "    .dataframe tbody tr th {\n",
       "        vertical-align: top;\n",
       "    }\n",
       "\n",
       "    .dataframe thead th {\n",
       "        text-align: right;\n",
       "    }\n",
       "</style>\n",
       "<table border=\"1\" class=\"dataframe\">\n",
       "  <thead>\n",
       "    <tr style=\"text-align: right;\">\n",
       "      <th></th>\n",
       "      <th>year</th>\n",
       "      <th>musician_x</th>\n",
       "      <th>work</th>\n",
       "      <th>category</th>\n",
       "      <th>status</th>\n",
       "      <th>cleaned_musician</th>\n",
       "      <th>musician_y</th>\n",
       "      <th>ethnicity</th>\n",
       "      <th>shared_award</th>\n",
       "      <th>Column1</th>\n",
       "    </tr>\n",
       "  </thead>\n",
       "  <tbody>\n",
       "    <tr>\n",
       "      <th>143</th>\n",
       "      <td>1997</td>\n",
       "      <td>soundtrack</td>\n",
       "      <td>Waiting to Exhale</td>\n",
       "      <td>album-of-the-year</td>\n",
       "      <td>nominee</td>\n",
       "      <td>soundtrack</td>\n",
       "      <td>soundtrack</td>\n",
       "      <td>UR</td>\n",
       "      <td>NaN</td>\n",
       "      <td>NaN</td>\n",
       "    </tr>\n",
       "    <tr>\n",
       "      <th>163</th>\n",
       "      <td>1993</td>\n",
       "      <td>soundtrack</td>\n",
       "      <td>Beauty and the Beast</td>\n",
       "      <td>album-of-the-year</td>\n",
       "      <td>nominee</td>\n",
       "      <td>soundtrack</td>\n",
       "      <td>soundtrack</td>\n",
       "      <td>white</td>\n",
       "      <td>NaN</td>\n",
       "      <td>NaN</td>\n",
       "    </tr>\n",
       "  </tbody>\n",
       "</table>\n",
       "</div>"
      ],
      "text/plain": [
       "     year  musician_x                  work           category   status  \\\n",
       "143  1997  soundtrack     Waiting to Exhale  album-of-the-year  nominee   \n",
       "163  1993  soundtrack  Beauty and the Beast  album-of-the-year  nominee   \n",
       "\n",
       "    cleaned_musician  musician_y ethnicity shared_award  Column1  \n",
       "143       soundtrack  soundtrack        UR          NaN      NaN  \n",
       "163       soundtrack  soundtrack     white          NaN      NaN  "
      ]
     },
     "execution_count": 8,
     "metadata": {},
     "output_type": "execute_result"
    }
   ],
   "source": [
    "# Check to see if changes have been made\n",
    "merged[merged.cleaned_musician=='soundtrack']"
   ]
  },
  {
   "cell_type": "code",
   "execution_count": 9,
   "id": "c2401bc9",
   "metadata": {},
   "outputs": [
    {
     "data": {
      "text/html": [
       "<div>\n",
       "<style scoped>\n",
       "    .dataframe tbody tr th:only-of-type {\n",
       "        vertical-align: middle;\n",
       "    }\n",
       "\n",
       "    .dataframe tbody tr th {\n",
       "        vertical-align: top;\n",
       "    }\n",
       "\n",
       "    .dataframe thead th {\n",
       "        text-align: right;\n",
       "    }\n",
       "</style>\n",
       "<table border=\"1\" class=\"dataframe\">\n",
       "  <thead>\n",
       "    <tr style=\"text-align: right;\">\n",
       "      <th></th>\n",
       "      <th>year</th>\n",
       "      <th>musician_x</th>\n",
       "      <th>work</th>\n",
       "      <th>category</th>\n",
       "      <th>status</th>\n",
       "      <th>cleaned_musician</th>\n",
       "      <th>musician_y</th>\n",
       "      <th>ethnicity</th>\n",
       "      <th>shared_award</th>\n",
       "      <th>Column1</th>\n",
       "      <th>id</th>\n",
       "    </tr>\n",
       "  </thead>\n",
       "  <tbody>\n",
       "    <tr>\n",
       "      <th>0</th>\n",
       "      <td>2022</td>\n",
       "      <td>Jon Batiste</td>\n",
       "      <td>We Are</td>\n",
       "      <td>album-of-the-year</td>\n",
       "      <td>winner</td>\n",
       "      <td>Jon Batiste</td>\n",
       "      <td>Jon Batiste</td>\n",
       "      <td>UR</td>\n",
       "      <td>NaN</td>\n",
       "      <td>NaN</td>\n",
       "      <td>1</td>\n",
       "    </tr>\n",
       "    <tr>\n",
       "      <th>1</th>\n",
       "      <td>2022</td>\n",
       "      <td>Tony Bennett &amp; Lady Gaga</td>\n",
       "      <td>Love for Sale</td>\n",
       "      <td>album-of-the-year</td>\n",
       "      <td>nominee</td>\n",
       "      <td>Tony Bennett  Lady Gaga</td>\n",
       "      <td>Tony Bennett &amp; Lady Gaga</td>\n",
       "      <td>white</td>\n",
       "      <td>NaN</td>\n",
       "      <td>NaN</td>\n",
       "      <td>2</td>\n",
       "    </tr>\n",
       "  </tbody>\n",
       "</table>\n",
       "</div>"
      ],
      "text/plain": [
       "   year                musician_x           work           category   status  \\\n",
       "0  2022               Jon Batiste         We Are  album-of-the-year   winner   \n",
       "1  2022  Tony Bennett & Lady Gaga  Love for Sale  album-of-the-year  nominee   \n",
       "\n",
       "          cleaned_musician                musician_y ethnicity shared_award  \\\n",
       "0              Jon Batiste               Jon Batiste        UR          NaN   \n",
       "1  Tony Bennett  Lady Gaga  Tony Bennett & Lady Gaga     white          NaN   \n",
       "\n",
       "   Column1  id  \n",
       "0      NaN   1  \n",
       "1      NaN   2  "
      ]
     },
     "execution_count": 9,
     "metadata": {},
     "output_type": "execute_result"
    }
   ],
   "source": [
    "# Add an unique ID column\n",
    "merged['id'] = range(1, len(merged) + 1)\n",
    "merged.head(2)"
   ]
  },
  {
   "cell_type": "markdown",
   "id": "eca142fe",
   "metadata": {},
   "source": [
    "### Calculate the grammys's racial markup from each decade"
   ]
  },
  {
   "cell_type": "code",
   "execution_count": 63,
   "id": "adea49a2",
   "metadata": {
    "scrolled": true
   },
   "outputs": [
    {
     "data": {
      "text/plain": [
       "white    0.565141\n",
       "UR       0.434859\n",
       "Name: ethnicity, dtype: float64"
      ]
     },
     "execution_count": 63,
     "metadata": {},
     "output_type": "execute_result"
    }
   ],
   "source": [
    "merged.ethnicity.value_counts(normalize=True)"
   ]
  },
  {
   "cell_type": "code",
   "execution_count": 81,
   "id": "959a3dbe",
   "metadata": {
    "scrolled": true
   },
   "outputs": [
    {
     "data": {
      "text/plain": [
       "white    0.627078\n",
       "UR       0.372922\n",
       "Name: ethnicity, dtype: float64"
      ]
     },
     "execution_count": 81,
     "metadata": {},
     "output_type": "execute_result"
    }
   ],
   "source": [
    "before_2018 = merged[merged.year <= 2017]\n",
    "before_2018.ethnicity.value_counts(normalize=True)"
   ]
  },
  {
   "cell_type": "markdown",
   "id": "f45ecd6e",
   "metadata": {},
   "source": [
    "pivot_past = pd.pivot_table(before_2018, values='id', \n",
    "                            index=['ethnicity'], \n",
    "                            columns='status', \n",
    "                            aggfunc='count',\n",
    "                            fill_value=0)\n",
    "pivot_past['total'] = pivot_past['nominee']+pivot_past['winner']\n",
    "pivot_past['chance'] = pivot_past['winner']/pivot_past['total']\n",
    "\n",
    "pivot_past"
   ]
  },
  {
   "cell_type": "code",
   "execution_count": 76,
   "id": "60a7a55d",
   "metadata": {
    "scrolled": true
   },
   "outputs": [
    {
     "data": {
      "text/plain": [
       "UR       0.612245\n",
       "white    0.387755\n",
       "Name: ethnicity, dtype: float64"
      ]
     },
     "execution_count": 76,
     "metadata": {},
     "output_type": "execute_result"
    }
   ],
   "source": [
    "after_2018 = merged[merged['year'] > 2017]\n",
    "after_2018.ethnicity.value_counts(normalize=True)"
   ]
  },
  {
   "cell_type": "code",
   "execution_count": 96,
   "id": "2537e58e",
   "metadata": {
    "scrolled": true
   },
   "outputs": [
    {
     "data": {
      "text/html": [
       "<div>\n",
       "<style scoped>\n",
       "    .dataframe tbody tr th:only-of-type {\n",
       "        vertical-align: middle;\n",
       "    }\n",
       "\n",
       "    .dataframe tbody tr th {\n",
       "        vertical-align: top;\n",
       "    }\n",
       "\n",
       "    .dataframe thead th {\n",
       "        text-align: right;\n",
       "    }\n",
       "</style>\n",
       "<table border=\"1\" class=\"dataframe\">\n",
       "  <thead>\n",
       "    <tr style=\"text-align: right;\">\n",
       "      <th></th>\n",
       "      <th>status</th>\n",
       "      <th>nominee</th>\n",
       "      <th>winner</th>\n",
       "      <th>total</th>\n",
       "      <th>chance</th>\n",
       "    </tr>\n",
       "    <tr>\n",
       "      <th>category</th>\n",
       "      <th>ethnicity</th>\n",
       "      <th></th>\n",
       "      <th></th>\n",
       "      <th></th>\n",
       "      <th></th>\n",
       "    </tr>\n",
       "  </thead>\n",
       "  <tbody>\n",
       "    <tr>\n",
       "      <th rowspan=\"2\" valign=\"top\">album-of-the-year</th>\n",
       "      <th>UR</th>\n",
       "      <td>24</td>\n",
       "      <td>2</td>\n",
       "      <td>26</td>\n",
       "      <td>0.076923</td>\n",
       "    </tr>\n",
       "    <tr>\n",
       "      <th>white</th>\n",
       "      <td>19</td>\n",
       "      <td>4</td>\n",
       "      <td>23</td>\n",
       "      <td>0.173913</td>\n",
       "    </tr>\n",
       "    <tr>\n",
       "      <th rowspan=\"2\" valign=\"top\">best-new-artist</th>\n",
       "      <th>UR</th>\n",
       "      <td>29</td>\n",
       "      <td>3</td>\n",
       "      <td>32</td>\n",
       "      <td>0.093750</td>\n",
       "    </tr>\n",
       "    <tr>\n",
       "      <th>white</th>\n",
       "      <td>14</td>\n",
       "      <td>3</td>\n",
       "      <td>17</td>\n",
       "      <td>0.176471</td>\n",
       "    </tr>\n",
       "    <tr>\n",
       "      <th rowspan=\"2\" valign=\"top\">record-of-the-year</th>\n",
       "      <th>UR</th>\n",
       "      <td>28</td>\n",
       "      <td>4</td>\n",
       "      <td>32</td>\n",
       "      <td>0.125000</td>\n",
       "    </tr>\n",
       "    <tr>\n",
       "      <th>white</th>\n",
       "      <td>15</td>\n",
       "      <td>2</td>\n",
       "      <td>17</td>\n",
       "      <td>0.117647</td>\n",
       "    </tr>\n",
       "  </tbody>\n",
       "</table>\n",
       "</div>"
      ],
      "text/plain": [
       "status                        nominee  winner  total    chance\n",
       "category           ethnicity                                  \n",
       "album-of-the-year  UR              24       2     26  0.076923\n",
       "                   white           19       4     23  0.173913\n",
       "best-new-artist    UR              29       3     32  0.093750\n",
       "                   white           14       3     17  0.176471\n",
       "record-of-the-year UR              28       4     32  0.125000\n",
       "                   white           15       2     17  0.117647"
      ]
     },
     "execution_count": 96,
     "metadata": {},
     "output_type": "execute_result"
    }
   ],
   "source": [
    "pivot_2018 = pd.pivot_table(after_2018, values='id', \n",
    "                            index=['ethnicity'], \n",
    "                            columns='status', \n",
    "                            aggfunc='count',\n",
    "                            fill_value=0)\n",
    "pivot_2018['total'] = pivot_2018['nominee']+pivot_2018['winner']\n",
    "pivot_2018['chance'] = pivot_2018['winner']/pivot_2018['total']\n",
    "\n",
    "pivot_2018"
   ]
  },
  {
   "cell_type": "markdown",
   "id": "94fa7070",
   "metadata": {},
   "source": [
    "### A function to lookup award results by year"
   ]
  },
  {
   "cell_type": "code",
   "execution_count": 10,
   "id": "4749bc7d",
   "metadata": {},
   "outputs": [],
   "source": [
    "def look_up_year(i):\n",
    "    df = merged[merged['year'] == i]\n",
    "    return(df)"
   ]
  },
  {
   "cell_type": "code",
   "execution_count": 93,
   "id": "18ccfb3e",
   "metadata": {},
   "outputs": [
    {
     "data": {
      "text/html": [
       "<div>\n",
       "<style scoped>\n",
       "    .dataframe tbody tr th:only-of-type {\n",
       "        vertical-align: middle;\n",
       "    }\n",
       "\n",
       "    .dataframe tbody tr th {\n",
       "        vertical-align: top;\n",
       "    }\n",
       "\n",
       "    .dataframe thead th {\n",
       "        text-align: right;\n",
       "    }\n",
       "</style>\n",
       "<table border=\"1\" class=\"dataframe\">\n",
       "  <thead>\n",
       "    <tr style=\"text-align: right;\">\n",
       "      <th></th>\n",
       "      <th>year</th>\n",
       "      <th>musician_x</th>\n",
       "      <th>work</th>\n",
       "      <th>category</th>\n",
       "      <th>status</th>\n",
       "      <th>cleaned_musician</th>\n",
       "      <th>musician_y</th>\n",
       "      <th>ethnicity</th>\n",
       "      <th>shared_award</th>\n",
       "      <th>Column1</th>\n",
       "      <th>id</th>\n",
       "      <th>total_percentage</th>\n",
       "      <th>status/ethnicity</th>\n",
       "    </tr>\n",
       "  </thead>\n",
       "  <tbody>\n",
       "    <tr>\n",
       "      <th>69</th>\n",
       "      <td>2011</td>\n",
       "      <td>Arcade Fire</td>\n",
       "      <td>The Suburbs</td>\n",
       "      <td>album-of-the-year</td>\n",
       "      <td>winner</td>\n",
       "      <td>Arcade Fire</td>\n",
       "      <td>Arcade Fire</td>\n",
       "      <td>white</td>\n",
       "      <td>NaN</td>\n",
       "      <td>NaN</td>\n",
       "      <td>70</td>\n",
       "      <td>0.333333</td>\n",
       "      <td>white winner</td>\n",
       "    </tr>\n",
       "    <tr>\n",
       "      <th>70</th>\n",
       "      <td>2011</td>\n",
       "      <td>Eminem</td>\n",
       "      <td>Recovery</td>\n",
       "      <td>album-of-the-year</td>\n",
       "      <td>nominee</td>\n",
       "      <td>Eminem</td>\n",
       "      <td>Eminem</td>\n",
       "      <td>white</td>\n",
       "      <td>NaN</td>\n",
       "      <td>NaN</td>\n",
       "      <td>71</td>\n",
       "      <td>0.333333</td>\n",
       "      <td>white nominee</td>\n",
       "    </tr>\n",
       "    <tr>\n",
       "      <th>71</th>\n",
       "      <td>2011</td>\n",
       "      <td>Lady Antebellum</td>\n",
       "      <td>Need You Now</td>\n",
       "      <td>album-of-the-year</td>\n",
       "      <td>nominee</td>\n",
       "      <td>Lady Antebellum</td>\n",
       "      <td>Lady Antebellum</td>\n",
       "      <td>white</td>\n",
       "      <td>NaN</td>\n",
       "      <td>NaN</td>\n",
       "      <td>72</td>\n",
       "      <td>0.333333</td>\n",
       "      <td>white nominee</td>\n",
       "    </tr>\n",
       "    <tr>\n",
       "      <th>72</th>\n",
       "      <td>2011</td>\n",
       "      <td>Lady Gaga</td>\n",
       "      <td>The Fame Monster</td>\n",
       "      <td>album-of-the-year</td>\n",
       "      <td>nominee</td>\n",
       "      <td>Lady Gaga</td>\n",
       "      <td>Lady Gaga</td>\n",
       "      <td>white</td>\n",
       "      <td>NaN</td>\n",
       "      <td>NaN</td>\n",
       "      <td>73</td>\n",
       "      <td>0.333333</td>\n",
       "      <td>white nominee</td>\n",
       "    </tr>\n",
       "    <tr>\n",
       "      <th>73</th>\n",
       "      <td>2011</td>\n",
       "      <td>Katy Perry</td>\n",
       "      <td>Teenage Dream</td>\n",
       "      <td>album-of-the-year</td>\n",
       "      <td>nominee</td>\n",
       "      <td>Katy Perry</td>\n",
       "      <td>Katy Perry</td>\n",
       "      <td>white</td>\n",
       "      <td>NaN</td>\n",
       "      <td>NaN</td>\n",
       "      <td>74</td>\n",
       "      <td>0.333333</td>\n",
       "      <td>white nominee</td>\n",
       "    </tr>\n",
       "    <tr>\n",
       "      <th>249</th>\n",
       "      <td>2011</td>\n",
       "      <td>Lady Antebellum</td>\n",
       "      <td>Need You Now</td>\n",
       "      <td>record-of-the-year</td>\n",
       "      <td>winner</td>\n",
       "      <td>Lady Antebellum</td>\n",
       "      <td>Lady Antebellum</td>\n",
       "      <td>white</td>\n",
       "      <td>NaN</td>\n",
       "      <td>NaN</td>\n",
       "      <td>250</td>\n",
       "      <td>0.333333</td>\n",
       "      <td>white winner</td>\n",
       "    </tr>\n",
       "    <tr>\n",
       "      <th>250</th>\n",
       "      <td>2011</td>\n",
       "      <td>B.o.B featuring Bruno Mars</td>\n",
       "      <td>Nothin’ on You</td>\n",
       "      <td>record-of-the-year</td>\n",
       "      <td>nominee</td>\n",
       "      <td>BoB featuring Bruno Mars</td>\n",
       "      <td>B.o.B featuring Bruno Mars</td>\n",
       "      <td>UR</td>\n",
       "      <td>NaN</td>\n",
       "      <td>NaN</td>\n",
       "      <td>251</td>\n",
       "      <td>0.333333</td>\n",
       "      <td>UR nominee</td>\n",
       "    </tr>\n",
       "    <tr>\n",
       "      <th>251</th>\n",
       "      <td>2011</td>\n",
       "      <td>Eminem featuring Rihanna</td>\n",
       "      <td>Love the Way You Lie</td>\n",
       "      <td>record-of-the-year</td>\n",
       "      <td>nominee</td>\n",
       "      <td>Eminem featuring Rihanna</td>\n",
       "      <td>Eminem featuring Rihanna</td>\n",
       "      <td>UR</td>\n",
       "      <td>shared</td>\n",
       "      <td>NaN</td>\n",
       "      <td>252</td>\n",
       "      <td>0.333333</td>\n",
       "      <td>UR nominee</td>\n",
       "    </tr>\n",
       "    <tr>\n",
       "      <th>252</th>\n",
       "      <td>2011</td>\n",
       "      <td>Cee Lo Green</td>\n",
       "      <td>Fuck You</td>\n",
       "      <td>record-of-the-year</td>\n",
       "      <td>nominee</td>\n",
       "      <td>Cee Lo Green</td>\n",
       "      <td>Cee Lo Green</td>\n",
       "      <td>UR</td>\n",
       "      <td>NaN</td>\n",
       "      <td>NaN</td>\n",
       "      <td>253</td>\n",
       "      <td>0.333333</td>\n",
       "      <td>UR nominee</td>\n",
       "    </tr>\n",
       "    <tr>\n",
       "      <th>253</th>\n",
       "      <td>2011</td>\n",
       "      <td>Jay-Z featuring Alicia Keys</td>\n",
       "      <td>Empire State of Mind</td>\n",
       "      <td>record-of-the-year</td>\n",
       "      <td>nominee</td>\n",
       "      <td>JayZ featuring Alicia Keys</td>\n",
       "      <td>Jay-Z featuring Alicia Keys</td>\n",
       "      <td>UR</td>\n",
       "      <td>NaN</td>\n",
       "      <td>NaN</td>\n",
       "      <td>254</td>\n",
       "      <td>0.333333</td>\n",
       "      <td>UR nominee</td>\n",
       "    </tr>\n",
       "    <tr>\n",
       "      <th>428</th>\n",
       "      <td>2011</td>\n",
       "      <td>Esperanza Spalding</td>\n",
       "      <td>NaN</td>\n",
       "      <td>best-new-artist</td>\n",
       "      <td>winner</td>\n",
       "      <td>Esperanza Spalding</td>\n",
       "      <td>Esperanza Spalding</td>\n",
       "      <td>white</td>\n",
       "      <td>NaN</td>\n",
       "      <td>NaN</td>\n",
       "      <td>429</td>\n",
       "      <td>0.333333</td>\n",
       "      <td>white winner</td>\n",
       "    </tr>\n",
       "    <tr>\n",
       "      <th>429</th>\n",
       "      <td>2011</td>\n",
       "      <td>Drake</td>\n",
       "      <td>NaN</td>\n",
       "      <td>best-new-artist</td>\n",
       "      <td>nominee</td>\n",
       "      <td>Drake</td>\n",
       "      <td>Drake</td>\n",
       "      <td>UR</td>\n",
       "      <td>NaN</td>\n",
       "      <td>NaN</td>\n",
       "      <td>430</td>\n",
       "      <td>0.333333</td>\n",
       "      <td>UR nominee</td>\n",
       "    </tr>\n",
       "    <tr>\n",
       "      <th>430</th>\n",
       "      <td>2011</td>\n",
       "      <td>Florence + the Machine</td>\n",
       "      <td>NaN</td>\n",
       "      <td>best-new-artist</td>\n",
       "      <td>nominee</td>\n",
       "      <td>Florence  the Machine</td>\n",
       "      <td>Florence + the Machine</td>\n",
       "      <td>white</td>\n",
       "      <td>NaN</td>\n",
       "      <td>NaN</td>\n",
       "      <td>431</td>\n",
       "      <td>0.333333</td>\n",
       "      <td>white nominee</td>\n",
       "    </tr>\n",
       "    <tr>\n",
       "      <th>431</th>\n",
       "      <td>2011</td>\n",
       "      <td>Justin Bieber</td>\n",
       "      <td>NaN</td>\n",
       "      <td>best-new-artist</td>\n",
       "      <td>nominee</td>\n",
       "      <td>Justin Bieber</td>\n",
       "      <td>Justin Bieber</td>\n",
       "      <td>white</td>\n",
       "      <td>NaN</td>\n",
       "      <td>NaN</td>\n",
       "      <td>432</td>\n",
       "      <td>0.333333</td>\n",
       "      <td>white nominee</td>\n",
       "    </tr>\n",
       "    <tr>\n",
       "      <th>432</th>\n",
       "      <td>2011</td>\n",
       "      <td>Mumford &amp; Sons</td>\n",
       "      <td>NaN</td>\n",
       "      <td>best-new-artist</td>\n",
       "      <td>nominee</td>\n",
       "      <td>Mumford  Sons</td>\n",
       "      <td>Mumford &amp; Sons</td>\n",
       "      <td>white</td>\n",
       "      <td>NaN</td>\n",
       "      <td>NaN</td>\n",
       "      <td>433</td>\n",
       "      <td>0.333333</td>\n",
       "      <td>white nominee</td>\n",
       "    </tr>\n",
       "  </tbody>\n",
       "</table>\n",
       "</div>"
      ],
      "text/plain": [
       "     year                   musician_x                  work  \\\n",
       "69   2011                  Arcade Fire           The Suburbs   \n",
       "70   2011                       Eminem              Recovery   \n",
       "71   2011              Lady Antebellum          Need You Now   \n",
       "72   2011                    Lady Gaga      The Fame Monster   \n",
       "73   2011                   Katy Perry         Teenage Dream   \n",
       "249  2011              Lady Antebellum          Need You Now   \n",
       "250  2011   B.o.B featuring Bruno Mars        Nothin’ on You   \n",
       "251  2011     Eminem featuring Rihanna  Love the Way You Lie   \n",
       "252  2011                 Cee Lo Green              Fuck You   \n",
       "253  2011  Jay-Z featuring Alicia Keys  Empire State of Mind   \n",
       "428  2011           Esperanza Spalding                   NaN   \n",
       "429  2011                        Drake                   NaN   \n",
       "430  2011       Florence + the Machine                   NaN   \n",
       "431  2011                Justin Bieber                   NaN   \n",
       "432  2011               Mumford & Sons                   NaN   \n",
       "\n",
       "               category   status            cleaned_musician  \\\n",
       "69    album-of-the-year   winner                 Arcade Fire   \n",
       "70    album-of-the-year  nominee                      Eminem   \n",
       "71    album-of-the-year  nominee             Lady Antebellum   \n",
       "72    album-of-the-year  nominee                   Lady Gaga   \n",
       "73    album-of-the-year  nominee                  Katy Perry   \n",
       "249  record-of-the-year   winner             Lady Antebellum   \n",
       "250  record-of-the-year  nominee    BoB featuring Bruno Mars   \n",
       "251  record-of-the-year  nominee    Eminem featuring Rihanna   \n",
       "252  record-of-the-year  nominee                Cee Lo Green   \n",
       "253  record-of-the-year  nominee  JayZ featuring Alicia Keys   \n",
       "428     best-new-artist   winner          Esperanza Spalding   \n",
       "429     best-new-artist  nominee                       Drake   \n",
       "430     best-new-artist  nominee       Florence  the Machine   \n",
       "431     best-new-artist  nominee               Justin Bieber   \n",
       "432     best-new-artist  nominee               Mumford  Sons   \n",
       "\n",
       "                      musician_y ethnicity shared_award  Column1   id  \\\n",
       "69                   Arcade Fire     white          NaN      NaN   70   \n",
       "70                        Eminem     white          NaN      NaN   71   \n",
       "71               Lady Antebellum     white          NaN      NaN   72   \n",
       "72                     Lady Gaga     white          NaN      NaN   73   \n",
       "73                    Katy Perry     white          NaN      NaN   74   \n",
       "249              Lady Antebellum     white          NaN      NaN  250   \n",
       "250   B.o.B featuring Bruno Mars        UR          NaN      NaN  251   \n",
       "251     Eminem featuring Rihanna        UR       shared      NaN  252   \n",
       "252                 Cee Lo Green        UR          NaN      NaN  253   \n",
       "253  Jay-Z featuring Alicia Keys        UR          NaN      NaN  254   \n",
       "428           Esperanza Spalding     white          NaN      NaN  429   \n",
       "429                        Drake        UR          NaN      NaN  430   \n",
       "430       Florence + the Machine     white          NaN      NaN  431   \n",
       "431                Justin Bieber     white          NaN      NaN  432   \n",
       "432               Mumford & Sons     white          NaN      NaN  433   \n",
       "\n",
       "     total_percentage status/ethnicity  \n",
       "69           0.333333     white winner  \n",
       "70           0.333333    white nominee  \n",
       "71           0.333333    white nominee  \n",
       "72           0.333333    white nominee  \n",
       "73           0.333333    white nominee  \n",
       "249          0.333333     white winner  \n",
       "250          0.333333       UR nominee  \n",
       "251          0.333333       UR nominee  \n",
       "252          0.333333       UR nominee  \n",
       "253          0.333333       UR nominee  \n",
       "428          0.333333     white winner  \n",
       "429          0.333333       UR nominee  \n",
       "430          0.333333    white nominee  \n",
       "431          0.333333    white nominee  \n",
       "432          0.333333    white nominee  "
      ]
     },
     "execution_count": 93,
     "metadata": {},
     "output_type": "execute_result"
    }
   ],
   "source": [
    "look_up_year(2011)"
   ]
  },
  {
   "cell_type": "markdown",
   "id": "a33c483a",
   "metadata": {},
   "source": [
    "### A function that calculates the percentage of UR nominees in a spcific year"
   ]
  },
  {
   "cell_type": "code",
   "execution_count": 12,
   "id": "55f6210f",
   "metadata": {},
   "outputs": [],
   "source": [
    "def get_total_percentage(i):\n",
    "    df = merged[merged['year'] == i]\n",
    "    total = df.value_counts('id').sum()\n",
    "    UR_count = df[df['ethnicity'] == 'UR'].value_counts('id').sum()\n",
    "    UR_percentage = UR_count/total\n",
    "    return(UR_percentage)"
   ]
  },
  {
   "cell_type": "code",
   "execution_count": 91,
   "id": "f9ba642f",
   "metadata": {},
   "outputs": [
    {
     "data": {
      "text/plain": [
       "0.6666666666666666"
      ]
     },
     "execution_count": 91,
     "metadata": {},
     "output_type": "execute_result"
    }
   ],
   "source": [
    "get_total_percentage(2022)"
   ]
  },
  {
   "cell_type": "code",
   "execution_count": 14,
   "id": "1eb8f5c8",
   "metadata": {
    "scrolled": true
   },
   "outputs": [
    {
     "data": {
      "text/html": [
       "<div>\n",
       "<style scoped>\n",
       "    .dataframe tbody tr th:only-of-type {\n",
       "        vertical-align: middle;\n",
       "    }\n",
       "\n",
       "    .dataframe tbody tr th {\n",
       "        vertical-align: top;\n",
       "    }\n",
       "\n",
       "    .dataframe thead th {\n",
       "        text-align: right;\n",
       "    }\n",
       "</style>\n",
       "<table border=\"1\" class=\"dataframe\">\n",
       "  <thead>\n",
       "    <tr style=\"text-align: right;\">\n",
       "      <th></th>\n",
       "      <th>year</th>\n",
       "      <th>musician_x</th>\n",
       "      <th>work</th>\n",
       "      <th>category</th>\n",
       "      <th>status</th>\n",
       "      <th>cleaned_musician</th>\n",
       "      <th>musician_y</th>\n",
       "      <th>ethnicity</th>\n",
       "      <th>shared_award</th>\n",
       "      <th>Column1</th>\n",
       "      <th>id</th>\n",
       "      <th>total_percentage</th>\n",
       "    </tr>\n",
       "  </thead>\n",
       "  <tbody>\n",
       "    <tr>\n",
       "      <th>0</th>\n",
       "      <td>2022</td>\n",
       "      <td>Jon Batiste</td>\n",
       "      <td>We Are</td>\n",
       "      <td>album-of-the-year</td>\n",
       "      <td>winner</td>\n",
       "      <td>Jon Batiste</td>\n",
       "      <td>Jon Batiste</td>\n",
       "      <td>UR</td>\n",
       "      <td>NaN</td>\n",
       "      <td>NaN</td>\n",
       "      <td>1</td>\n",
       "      <td>0.666667</td>\n",
       "    </tr>\n",
       "    <tr>\n",
       "      <th>1</th>\n",
       "      <td>2022</td>\n",
       "      <td>Tony Bennett &amp; Lady Gaga</td>\n",
       "      <td>Love for Sale</td>\n",
       "      <td>album-of-the-year</td>\n",
       "      <td>nominee</td>\n",
       "      <td>Tony Bennett  Lady Gaga</td>\n",
       "      <td>Tony Bennett &amp; Lady Gaga</td>\n",
       "      <td>white</td>\n",
       "      <td>NaN</td>\n",
       "      <td>NaN</td>\n",
       "      <td>2</td>\n",
       "      <td>0.666667</td>\n",
       "    </tr>\n",
       "  </tbody>\n",
       "</table>\n",
       "</div>"
      ],
      "text/plain": [
       "   year                musician_x           work           category   status  \\\n",
       "0  2022               Jon Batiste         We Are  album-of-the-year   winner   \n",
       "1  2022  Tony Bennett & Lady Gaga  Love for Sale  album-of-the-year  nominee   \n",
       "\n",
       "          cleaned_musician                musician_y ethnicity shared_award  \\\n",
       "0              Jon Batiste               Jon Batiste        UR          NaN   \n",
       "1  Tony Bennett  Lady Gaga  Tony Bennett & Lady Gaga     white          NaN   \n",
       "\n",
       "   Column1  id  total_percentage  \n",
       "0      NaN   1          0.666667  \n",
       "1      NaN   2          0.666667  "
      ]
     },
     "execution_count": 14,
     "metadata": {},
     "output_type": "execute_result"
    }
   ],
   "source": [
    "# Create a new column with percentage of UR nominees each year\n",
    "merged['total_percentage'] = merged.apply(lambda x: get_total_percentage(x['year']), axis=1)\n",
    "merged.head(2)"
   ]
  },
  {
   "cell_type": "markdown",
   "id": "1de2917d",
   "metadata": {},
   "source": [
    "### A pivot table to see the racial makeup of nominees each year and the chance of winning"
   ]
  },
  {
   "cell_type": "code",
   "execution_count": 98,
   "id": "5e495565",
   "metadata": {
    "scrolled": false
   },
   "outputs": [
    {
     "data": {
      "text/html": [
       "<div>\n",
       "<style scoped>\n",
       "    .dataframe tbody tr th:only-of-type {\n",
       "        vertical-align: middle;\n",
       "    }\n",
       "\n",
       "    .dataframe tbody tr th {\n",
       "        vertical-align: top;\n",
       "    }\n",
       "\n",
       "    .dataframe thead th {\n",
       "        text-align: right;\n",
       "    }\n",
       "</style>\n",
       "<table border=\"1\" class=\"dataframe\">\n",
       "  <thead>\n",
       "    <tr style=\"text-align: right;\">\n",
       "      <th>status</th>\n",
       "      <th>nominee</th>\n",
       "      <th>winner</th>\n",
       "      <th>total</th>\n",
       "      <th>chance</th>\n",
       "    </tr>\n",
       "    <tr>\n",
       "      <th>ethnicity</th>\n",
       "      <th></th>\n",
       "      <th></th>\n",
       "      <th></th>\n",
       "      <th></th>\n",
       "    </tr>\n",
       "  </thead>\n",
       "  <tbody>\n",
       "    <tr>\n",
       "      <th>UR</th>\n",
       "      <td>212</td>\n",
       "      <td>35</td>\n",
       "      <td>247</td>\n",
       "      <td>0.141700</td>\n",
       "    </tr>\n",
       "    <tr>\n",
       "      <th>white</th>\n",
       "      <td>254</td>\n",
       "      <td>67</td>\n",
       "      <td>321</td>\n",
       "      <td>0.208723</td>\n",
       "    </tr>\n",
       "  </tbody>\n",
       "</table>\n",
       "</div>"
      ],
      "text/plain": [
       "status     nominee  winner  total    chance\n",
       "ethnicity                                  \n",
       "UR             212      35    247  0.141700\n",
       "white          254      67    321  0.208723"
      ]
     },
     "execution_count": 98,
     "metadata": {},
     "output_type": "execute_result"
    }
   ],
   "source": [
    "pivot = pd.pivot_table(merged, values='id', \n",
    "                            index=['ethnicity'], \n",
    "                            columns='status', \n",
    "                            aggfunc='count',\n",
    "                            fill_value=0)\n",
    "pivot['total'] = pivot['nominee']+pivot['winner']\n",
    "pivot['chance'] = pivot['winner']/pivot['total']\n",
    "\n",
    "pivot"
   ]
  },
  {
   "cell_type": "markdown",
   "id": "747a6daa",
   "metadata": {},
   "source": [
    "## A function to calculate the chance of winning by race in different award category"
   ]
  },
  {
   "cell_type": "code",
   "execution_count": 16,
   "id": "461302de",
   "metadata": {},
   "outputs": [],
   "source": [
    "def chance_by_award(award):\n",
    "    df=merged[merged.category == award]\n",
    "    pivot = pd.pivot_table(df, values='id', \n",
    "                                index='ethnicity', \n",
    "                                columns='status', \n",
    "                                aggfunc='count',\n",
    "                                fill_value=0)\n",
    "    pivot['total'] = pivot['nominee']+pivot['winner']\n",
    "    pivot['chance'] = pivot['winner']/pivot['total']\n",
    "    \n",
    "    white = pivot.iloc[1].chance\n",
    "    UR = pivot.iloc[0].chance\n",
    "    \n",
    "    ratio = white/UR\n",
    "    \n",
    "    return(pivot,ratio)\n",
    "    "
   ]
  },
  {
   "cell_type": "code",
   "execution_count": 17,
   "id": "80a4829c",
   "metadata": {
    "scrolled": true
   },
   "outputs": [
    {
     "data": {
      "text/plain": [
       "(status     nominee  winner  total    chance\n",
       " ethnicity                                  \n",
       " UR              79      11     90  0.122222\n",
       " white           77      23    100  0.230000,\n",
       " 1.881818181818182)"
      ]
     },
     "execution_count": 17,
     "metadata": {},
     "output_type": "execute_result"
    }
   ],
   "source": [
    "chance_by_award('record-of-the-year')"
   ]
  },
  {
   "cell_type": "code",
   "execution_count": 18,
   "id": "eebc019d",
   "metadata": {},
   "outputs": [],
   "source": [
    "def chance_by_year(year):\n",
    "    df=merged[merged.year == year]\n",
    "    pivot = pd.pivot_table(df, values='id', \n",
    "                                index='ethnicity', \n",
    "                                columns='status', \n",
    "                                aggfunc='count',\n",
    "                                fill_value=0)\n",
    "    pivot['total'] = pivot['nominee']+pivot['winner']\n",
    "    pivot['chance'] = pivot['winner']/pivot['total']\n",
    "    \n",
    "    white = pivot.iloc[1].chance\n",
    "    UR = pivot.iloc[0].chance\n",
    "    \n",
    "    ratio = white/UR\n",
    "    return(pivot,ratio)"
   ]
  },
  {
   "cell_type": "code",
   "execution_count": 53,
   "id": "cec31394",
   "metadata": {},
   "outputs": [
    {
     "data": {
      "text/plain": [
       "(status     nominee  winner  total  chance\n",
       " ethnicity                                \n",
       " UR               5       0      5     0.0\n",
       " white            7       3     10     0.3,\n",
       " inf)"
      ]
     },
     "execution_count": 53,
     "metadata": {},
     "output_type": "execute_result"
    }
   ],
   "source": [
    "chance_by_year(2011)"
   ]
  },
  {
   "cell_type": "markdown",
   "id": "1750de4a",
   "metadata": {},
   "source": [
    "# Some rough exploratory vizs"
   ]
  },
  {
   "cell_type": "code",
   "execution_count": 20,
   "id": "5ce29b92",
   "metadata": {},
   "outputs": [],
   "source": [
    "%load_ext rpy2.ipython\n",
    "%load_ext autoreload\n",
    "%autoreload 2\n",
    "\n",
    "%matplotlib inline  \n",
    "from matplotlib import rcParams\n",
    "rcParams['figure.figsize'] = (16, 100)\n",
    "\n",
    "import warnings\n",
    "from rpy2.rinterface import RRuntimeWarning\n",
    "warnings.filterwarnings(\"ignore\") # Ignore all warnings\n",
    "# warnings.filterwarnings(\"ignore\", category=RRuntimeWarning) # Show some warnings\n",
    "\n",
    "import pandas as pd\n",
    "import numpy as np\n",
    "import matplotlib.pyplot as plt\n",
    "from IPython.display import display, HTML"
   ]
  },
  {
   "cell_type": "code",
   "execution_count": 21,
   "id": "91cf39e9",
   "metadata": {},
   "outputs": [
    {
     "data": {
      "application/javascript": [
       "// Disable auto-scrolling\n",
       "IPython.OutputArea.prototype._should_scroll = function(lines) {\n",
       "    return false;\n",
       "}\n"
      ],
      "text/plain": [
       "<IPython.core.display.Javascript object>"
      ]
     },
     "metadata": {},
     "output_type": "display_data"
    }
   ],
   "source": [
    "%%javascript\n",
    "// Disable auto-scrolling\n",
    "IPython.OutputArea.prototype._should_scroll = function(lines) {\n",
    "    return false;\n",
    "}"
   ]
  },
  {
   "cell_type": "code",
   "execution_count": 22,
   "id": "81e99924",
   "metadata": {
    "scrolled": true
   },
   "outputs": [
    {
     "name": "stderr",
     "output_type": "stream",
     "text": [
      "R[write to console]: Loading required package: tidyverse\n",
      "\n"
     ]
    },
    {
     "name": "stdout",
     "output_type": "stream",
     "text": [
      "── Attaching packages ─────────────────────────────────────── tidyverse 1.3.2 ──\n",
      "✔ ggplot2 3.4.0      ✔ purrr   0.3.5 \n",
      "✔ tibble  3.1.8      ✔ dplyr   1.0.10\n",
      "✔ tidyr   1.2.1      ✔ stringr 1.4.1 \n",
      "✔ readr   2.1.3      ✔ forcats 0.5.2 \n",
      "── Conflicts ────────────────────────────────────────── tidyverse_conflicts() ──\n",
      "✖ dplyr::filter() masks stats::filter()\n",
      "✖ dplyr::lag()    masks stats::lag()\n"
     ]
    }
   ],
   "source": [
    "%%R\n",
    "\n",
    "require('tidyverse')"
   ]
  },
  {
   "cell_type": "code",
   "execution_count": 47,
   "id": "2a8b6bf1",
   "metadata": {},
   "outputs": [
    {
     "data": {
      "text/plain": [
       "cleaned_musician\n",
       "Taylor Swift      10\n",
       "Beyonce            9\n",
       "Adele              8\n",
       "Kendrick Lamar     7\n",
       "Kanye West         6\n",
       "Mariah Carey       6\n",
       "Coldplay           5\n",
       "U2                 5\n",
       "Billie Eilish      5\n",
       "Eminem             5\n",
       "dtype: int64"
      ]
     },
     "execution_count": 47,
     "metadata": {},
     "output_type": "execute_result"
    }
   ],
   "source": [
    "merged.value_counts(\"cleaned_musician\").head(10)"
   ]
  },
  {
   "cell_type": "markdown",
   "id": "43d646dd",
   "metadata": {},
   "source": [
    "### Plot the trends of UR nominations over the years"
   ]
  },
  {
   "cell_type": "code",
   "execution_count": 23,
   "id": "963d042f",
   "metadata": {
    "scrolled": false
   },
   "outputs": [
    {
     "data": {
      "image/png": "[encoded data removed]"
     },
     "metadata": {},
     "output_type": "display_data"
    }
   ],
   "source": [
    "%%R -i merged\n",
    "ggplot(merged,aes(y=total_percentage,x=year))+geom_line()"
   ]
  },
  {
   "cell_type": "markdown",
   "id": "9068a44f",
   "metadata": {},
   "source": [
    "### Plot the makeup of white and non-white musicians nominated each year"
   ]
  },
  {
   "cell_type": "code",
   "execution_count": 24,
   "id": "eb5e60f1",
   "metadata": {},
   "outputs": [
    {
     "data": {
      "text/html": [
       "<div>\n",
       "<style scoped>\n",
       "    .dataframe tbody tr th:only-of-type {\n",
       "        vertical-align: middle;\n",
       "    }\n",
       "\n",
       "    .dataframe tbody tr th {\n",
       "        vertical-align: top;\n",
       "    }\n",
       "\n",
       "    .dataframe thead th {\n",
       "        text-align: right;\n",
       "    }\n",
       "</style>\n",
       "<table border=\"1\" class=\"dataframe\">\n",
       "  <thead>\n",
       "    <tr style=\"text-align: right;\">\n",
       "      <th>ethnicity</th>\n",
       "      <th>year</th>\n",
       "      <th>UR</th>\n",
       "      <th>white</th>\n",
       "    </tr>\n",
       "  </thead>\n",
       "  <tbody>\n",
       "    <tr>\n",
       "      <th>0</th>\n",
       "      <td>1990</td>\n",
       "      <td>6</td>\n",
       "      <td>9</td>\n",
       "    </tr>\n",
       "    <tr>\n",
       "      <th>1</th>\n",
       "      <td>1991</td>\n",
       "      <td>6</td>\n",
       "      <td>9</td>\n",
       "    </tr>\n",
       "    <tr>\n",
       "      <th>2</th>\n",
       "      <td>1992</td>\n",
       "      <td>6</td>\n",
       "      <td>9</td>\n",
       "    </tr>\n",
       "    <tr>\n",
       "      <th>3</th>\n",
       "      <td>1993</td>\n",
       "      <td>5</td>\n",
       "      <td>10</td>\n",
       "    </tr>\n",
       "    <tr>\n",
       "      <th>4</th>\n",
       "      <td>1994</td>\n",
       "      <td>5</td>\n",
       "      <td>10</td>\n",
       "    </tr>\n",
       "  </tbody>\n",
       "</table>\n",
       "</div>"
      ],
      "text/plain": [
       "ethnicity  year  UR  white\n",
       "0          1990   6      9\n",
       "1          1991   6      9\n",
       "2          1992   6      9\n",
       "3          1993   5     10\n",
       "4          1994   5     10"
      ]
     },
     "execution_count": 24,
     "metadata": {},
     "output_type": "execute_result"
    }
   ],
   "source": [
    "all_years = pd.pivot_table(merged, values='id', \n",
    "                                index='year', \n",
    "                                columns='ethnicity', \n",
    "                                aggfunc='count',\n",
    "                                fill_value=0)\n",
    "\n",
    "all_years.reset_index(inplace=True)\n",
    "all_years.head()\n",
    "# all_years_melted =pd.melt(all_years, id_vars =['ethnicity year'], value_vars =['UR', 'white'])\n",
    "# all_years_melted"
   ]
  },
  {
   "cell_type": "code",
   "execution_count": 25,
   "id": "cdc1da44",
   "metadata": {},
   "outputs": [
    {
     "data": {
      "image/png": "[encoded data removed]"
     },
     "metadata": {},
     "output_type": "display_data"
    }
   ],
   "source": [
    "%%R -i all_years\n",
    "all_years<- mutate(all_years, UR = -UR)\n",
    "\n",
    "ggplot(all_years, aes(x = year)) +\n",
    "    geom_col(aes(y = white), fill = \"indianred2\")+\n",
    "    geom_col(aes(y = UR), fill = \"lightblue\")+\n",
    "    labs(x = \"year\",\n",
    "         y = \"white/non-white\")+\n",
    "#     coord_flip()+\n",
    "    scale_y_reverse()\n"
   ]
  },
  {
   "cell_type": "markdown",
   "id": "81781dfc",
   "metadata": {},
   "source": [
    "### Plot the makeup of white and non-white nominations and winner's race over the years"
   ]
  },
  {
   "cell_type": "code",
   "execution_count": 26,
   "id": "d7179ebb",
   "metadata": {
    "scrolled": false
   },
   "outputs": [
    {
     "data": {
      "text/html": [
       "<div>\n",
       "<style scoped>\n",
       "    .dataframe tbody tr th:only-of-type {\n",
       "        vertical-align: middle;\n",
       "    }\n",
       "\n",
       "    .dataframe tbody tr th {\n",
       "        vertical-align: top;\n",
       "    }\n",
       "\n",
       "    .dataframe thead th {\n",
       "        text-align: right;\n",
       "    }\n",
       "</style>\n",
       "<table border=\"1\" class=\"dataframe\">\n",
       "  <thead>\n",
       "    <tr style=\"text-align: right;\">\n",
       "      <th></th>\n",
       "      <th>year</th>\n",
       "      <th>musician_x</th>\n",
       "      <th>work</th>\n",
       "      <th>category</th>\n",
       "      <th>status</th>\n",
       "      <th>cleaned_musician</th>\n",
       "      <th>musician_y</th>\n",
       "      <th>ethnicity</th>\n",
       "      <th>shared_award</th>\n",
       "      <th>Column1</th>\n",
       "      <th>id</th>\n",
       "      <th>total_percentage</th>\n",
       "      <th>status/ethnicity</th>\n",
       "    </tr>\n",
       "  </thead>\n",
       "  <tbody>\n",
       "    <tr>\n",
       "      <th>0</th>\n",
       "      <td>2022</td>\n",
       "      <td>Jon Batiste</td>\n",
       "      <td>We Are</td>\n",
       "      <td>album-of-the-year</td>\n",
       "      <td>winner</td>\n",
       "      <td>Jon Batiste</td>\n",
       "      <td>Jon Batiste</td>\n",
       "      <td>UR</td>\n",
       "      <td>NaN</td>\n",
       "      <td>NaN</td>\n",
       "      <td>1</td>\n",
       "      <td>0.666667</td>\n",
       "      <td>UR winner</td>\n",
       "    </tr>\n",
       "    <tr>\n",
       "      <th>1</th>\n",
       "      <td>2022</td>\n",
       "      <td>Tony Bennett &amp; Lady Gaga</td>\n",
       "      <td>Love for Sale</td>\n",
       "      <td>album-of-the-year</td>\n",
       "      <td>nominee</td>\n",
       "      <td>Tony Bennett  Lady Gaga</td>\n",
       "      <td>Tony Bennett &amp; Lady Gaga</td>\n",
       "      <td>white</td>\n",
       "      <td>NaN</td>\n",
       "      <td>NaN</td>\n",
       "      <td>2</td>\n",
       "      <td>0.666667</td>\n",
       "      <td>white nominee</td>\n",
       "    </tr>\n",
       "  </tbody>\n",
       "</table>\n",
       "</div>"
      ],
      "text/plain": [
       "   year                musician_x           work           category   status  \\\n",
       "0  2022               Jon Batiste         We Are  album-of-the-year   winner   \n",
       "1  2022  Tony Bennett & Lady Gaga  Love for Sale  album-of-the-year  nominee   \n",
       "\n",
       "          cleaned_musician                musician_y ethnicity shared_award  \\\n",
       "0              Jon Batiste               Jon Batiste        UR          NaN   \n",
       "1  Tony Bennett  Lady Gaga  Tony Bennett & Lady Gaga     white          NaN   \n",
       "\n",
       "   Column1  id  total_percentage status/ethnicity  \n",
       "0      NaN   1          0.666667        UR winner  \n",
       "1      NaN   2          0.666667    white nominee  "
      ]
     },
     "execution_count": 26,
     "metadata": {},
     "output_type": "execute_result"
    }
   ],
   "source": [
    "merged['status/ethnicity'] = merged['ethnicity']+\" \"+merged['status']\n",
    "merged.head(2)"
   ]
  },
  {
   "cell_type": "code",
   "execution_count": 48,
   "id": "6d88ba75",
   "metadata": {},
   "outputs": [],
   "source": [
    "merged.to_csv(\"musicians-matched.csv\",index=False)"
   ]
  },
  {
   "cell_type": "code",
   "execution_count": 27,
   "id": "76113b98",
   "metadata": {},
   "outputs": [
    {
     "data": {
      "image/png": "[encoded data removed]"
     },
     "metadata": {},
     "output_type": "display_data"
    }
   ],
   "source": [
    "%%R -i merged -w 400\n",
    "\n",
    "UR_section<-merged%>%filter(ethnicity == \"UR\")%>%filter(status == \"nominee\")\n",
    "\n",
    "UR_section\n",
    "\n",
    "UR_plot <- ggplot(UR_section, aes(x = year)) +\n",
    "  geom_dotplot(stackgroups = TRUE, binwidth = 1, binpositions = \"all\", fill=\"#b8e186\",stroke=NA,stackratio=1.1, dotsize=0.9) +\n",
    "  coord_flip()+ \n",
    "  scale_x_reverse()+\n",
    "    theme_minimal() +\n",
    "  theme(\n",
    "    panel.grid.major = element_blank(),\n",
    "    panel.grid.minor = element_blank(),\n",
    "    axis.text.x = element_blank()\n",
    "  )\n",
    "\n",
    "UR_plot\n"
   ]
  },
  {
   "cell_type": "code",
   "execution_count": 28,
   "id": "c01048c6",
   "metadata": {},
   "outputs": [
    {
     "data": {
      "image/png": "[encoded data removed]"
     },
     "metadata": {},
     "output_type": "display_data"
    }
   ],
   "source": [
    "%%R\n",
    "\n",
    "white_section<-merged%>%filter(ethnicity == \"white\")%>%filter(status == \"nominee\")\n",
    "\n",
    "white_section\n",
    "\n",
    "white_plot <- ggplot(white_section, aes(x = year)) +\n",
    "  geom_dotplot(stackgroups = TRUE, binwidth = 1, binpositions = \"all\", fill=\"#f1b6da\",stroke=NA,stackratio=1.1, dotsize=0.9) +\n",
    "  coord_flip() +\n",
    "  scale_x_reverse()+\n",
    "    theme_minimal() +\n",
    "  theme(\n",
    "    panel.grid.major = element_blank(),\n",
    "    panel.grid.minor = element_blank(),\n",
    "    axis.text.x = element_blank()\n",
    "  )\n",
    "\n",
    "white_plot\n"
   ]
  },
  {
   "cell_type": "code",
   "execution_count": 49,
   "id": "1f935670",
   "metadata": {},
   "outputs": [
    {
     "data": {
      "image/png": "[encoded data removed]"
     },
     "metadata": {},
     "output_type": "display_data"
    }
   ],
   "source": [
    "%%R\n",
    "# winners\n",
    "white_section<-merged%>%filter(status == \"winner\")\n",
    "\n",
    "white_section\n",
    "\n",
    "winner<- ggplot(white_section, aes(x = year, fill=ethnicity)) +\n",
    "  geom_dotplot(stackgroups = TRUE, binwidth = 1, binpositions = \"all\",stroke=NA,stackratio=1.1, dotsize=0.9) +\n",
    "  scale_fill_manual(values=c(\"#4dac26\", \"#d01c8b\"))+\n",
    "#   coord_flip() +\n",
    "  scale_x_reverse()+\n",
    "  theme_minimal() +\n",
    "  theme(\n",
    "    panel.grid.major = element_blank(),\n",
    "    panel.grid.minor = element_blank(),\n",
    "    axis.text.x = element_blank()\n",
    "  )\n",
    "\n",
    "winner\n"
   ]
  },
  {
   "cell_type": "code",
   "execution_count": 57,
   "id": "9a62e15e",
   "metadata": {},
   "outputs": [
    {
     "data": {
      "image/png": "[encoded data removed]"
     },
     "metadata": {},
     "output_type": "display_data"
    }
   ],
   "source": [
    "%%R\n",
    "# winners\n",
    "album_section<-merged%>%filter(status == \"winner\")%>%filter(category=='album-of-the-year')\n",
    "\n",
    "album_section\n",
    "\n",
    "album<- ggplot(album_section, aes(x = year, fill=ethnicity)) +\n",
    "  geom_dotplot(stackgroups = TRUE, binwidth = 1, binpositions = \"all\",stroke=NA,stackratio=1.1, dotsize=0.9) +\n",
    "  scale_fill_manual(values=c(\"#4dac26\", \"#d01c8b\"))+\n",
    "#   coord_flip() +\n",
    "  scale_x_reverse()+\n",
    "  theme_minimal() +\n",
    "  theme(\n",
    "    panel.grid.major = element_blank(),\n",
    "    panel.grid.minor = element_blank(),\n",
    "    axis.text.x = element_blank()\n",
    "  )\n",
    "\n",
    "album"
   ]
  },
  {
   "cell_type": "code",
   "execution_count": 58,
   "id": "a260f8b4",
   "metadata": {},
   "outputs": [
    {
     "data": {
      "image/png": "[encoded data removed]"
     },
     "metadata": {},
     "output_type": "display_data"
    }
   ],
   "source": [
    "%%R\n",
    "# winners\n",
    "record_section<-merged%>%filter(status == \"winner\")%>%filter(category=='record-of-the-year')\n",
    "\n",
    "record_section\n",
    "\n",
    "record<- ggplot(record_section, aes(x = year, fill=ethnicity)) +\n",
    "  geom_dotplot(stackgroups = TRUE, binwidth = 1, binpositions = \"all\",stroke=NA,stackratio=1.1, dotsize=0.9) +\n",
    "  scale_fill_manual(values=c(\"#4dac26\", \"#d01c8b\"))+\n",
    "#   coord_flip() +\n",
    "  scale_x_reverse()+\n",
    "  theme_minimal() +\n",
    "  theme(\n",
    "    panel.grid.major = element_blank(),\n",
    "    panel.grid.minor = element_blank(),\n",
    "    axis.text.x = element_blank()\n",
    "  )\n",
    "\n",
    "record"
   ]
  },
  {
   "cell_type": "code",
   "execution_count": 59,
   "id": "26baa95e",
   "metadata": {},
   "outputs": [
    {
     "data": {
      "image/png": "[encoded data removed]"
     },
     "metadata": {},
     "output_type": "display_data"
    }
   ],
   "source": [
    "%%R\n",
    "# winners\n",
    "artist_section<-merged%>%filter(status == \"winner\")%>%filter(category=='best-new-artist')\n",
    "\n",
    "\n",
    "artist<- ggplot(artist_section, aes(x = year, fill=ethnicity)) +\n",
    "  geom_dotplot(stackgroups = TRUE, binwidth = 1, binpositions = \"all\",stroke=NA,stackratio=1.1, dotsize=0.9) +\n",
    "  scale_fill_manual(values=c(\"#4dac26\", \"#d01c8b\"))+\n",
    "#   coord_flip() +\n",
    "  scale_x_reverse()+\n",
    "  theme_minimal() +\n",
    "  theme(\n",
    "    panel.grid.major = element_blank(),\n",
    "    panel.grid.minor = element_blank(),\n",
    "    axis.text.x = element_blank()\n",
    "  )\n",
    "\n",
    "artist"
   ]
  },
  {
   "cell_type": "code",
   "execution_count": 30,
   "id": "fdd31e81",
   "metadata": {},
   "outputs": [
    {
     "name": "stdout",
     "output_type": "stream",
     "text": [
      "Saving 6.67 x 6.67 in image\n",
      "Saving 6.67 x 6.67 in image\n",
      "Saving 6.67 x 6.67 in image\n"
     ]
    }
   ],
   "source": [
    "%%R\n",
    "  \n",
    "ggsave(\"white.pdf\", white_plot, device = \"pdf\")\n",
    "ggsave(\"winner.pdf\", winner, device = \"pdf\")\n",
    "ggsave(\"urplot.pdf\", UR_plot, device = \"pdf\")"
   ]
  },
  {
   "cell_type": "markdown",
   "id": "1dfadbf6",
   "metadata": {},
   "source": [
    "### Plotting racial makeup of both nominees and winners across category"
   ]
  },
  {
   "cell_type": "code",
   "execution_count": 31,
   "id": "ccee49e8",
   "metadata": {},
   "outputs": [
    {
     "data": {
      "text/html": [
       "<div>\n",
       "<style scoped>\n",
       "    .dataframe tbody tr th:only-of-type {\n",
       "        vertical-align: middle;\n",
       "    }\n",
       "\n",
       "    .dataframe tbody tr th {\n",
       "        vertical-align: top;\n",
       "    }\n",
       "\n",
       "    .dataframe thead th {\n",
       "        text-align: right;\n",
       "    }\n",
       "</style>\n",
       "<table border=\"1\" class=\"dataframe\">\n",
       "  <thead>\n",
       "    <tr style=\"text-align: right;\">\n",
       "      <th></th>\n",
       "      <th>year</th>\n",
       "      <th>category</th>\n",
       "      <th>count</th>\n",
       "    </tr>\n",
       "  </thead>\n",
       "  <tbody>\n",
       "    <tr>\n",
       "      <th>0</th>\n",
       "      <td>1990</td>\n",
       "      <td>UR nominee</td>\n",
       "      <td>5</td>\n",
       "    </tr>\n",
       "    <tr>\n",
       "      <th>1</th>\n",
       "      <td>1990</td>\n",
       "      <td>UR winner</td>\n",
       "      <td>1</td>\n",
       "    </tr>\n",
       "    <tr>\n",
       "      <th>2</th>\n",
       "      <td>1990</td>\n",
       "      <td>white nominee</td>\n",
       "      <td>7</td>\n",
       "    </tr>\n",
       "    <tr>\n",
       "      <th>3</th>\n",
       "      <td>1990</td>\n",
       "      <td>white winner</td>\n",
       "      <td>2</td>\n",
       "    </tr>\n",
       "    <tr>\n",
       "      <th>4</th>\n",
       "      <td>1991</td>\n",
       "      <td>UR nominee</td>\n",
       "      <td>4</td>\n",
       "    </tr>\n",
       "  </tbody>\n",
       "</table>\n",
       "</div>"
      ],
      "text/plain": [
       "   year       category  count\n",
       "0  1990     UR nominee      5\n",
       "1  1990      UR winner      1\n",
       "2  1990  white nominee      7\n",
       "3  1990   white winner      2\n",
       "4  1991     UR nominee      4"
      ]
     },
     "execution_count": 31,
     "metadata": {},
     "output_type": "execute_result"
    }
   ],
   "source": [
    "summary = merged.pivot_table(values='id', \n",
    "                                index=['year','status/ethnicity'], \n",
    "#                                 columns=[], \n",
    "                                aggfunc='count',\n",
    "                                fill_value=0)\n",
    "\n",
    "summary.reset_index(inplace=True)\n",
    "summary.columns=['year', 'category', 'count']\n",
    "# df.pivot_table(index=['id','item'], columns=['date'], values='buy',aggfunc='sum', fill_value=0).reset_index()\n",
    "summary.head()"
   ]
  },
  {
   "cell_type": "code",
   "execution_count": 32,
   "id": "4e6eafb2",
   "metadata": {},
   "outputs": [
    {
     "data": {
      "image/png": "[encoded data removed]"
     },
     "metadata": {},
     "output_type": "display_data"
    }
   ],
   "source": [
    "%%R -i summary\n",
    "diverging <- summary %>%\n",
    "    mutate(count = ifelse(grepl(\"UR\", category), -count, count))\n",
    "\n",
    "ggplot(diverging, aes(x = year, \n",
    "            y = count,\n",
    "             fill = category)) +\n",
    "scale_fill_manual(values = c(\"UR nominee\" = \"lightblue\",\"UR winner\" = \"blue\",'white winner' = 'red','white nominee'='pink'))+\n",
    "  geom_col() +\n",
    "  coord_flip() +\n",
    "  labs(title = \"Diversity of the GRAMMY Awards over the years\") +\n",
    "  theme_minimal()\n"
   ]
  },
  {
   "cell_type": "markdown",
   "id": "5976d78a",
   "metadata": {},
   "source": [
    "### Plotting racial makeup of both nominees and winners of \"Album of the Year\""
   ]
  },
  {
   "cell_type": "code",
   "execution_count": 33,
   "id": "573309a3",
   "metadata": {},
   "outputs": [
    {
     "data": {
      "text/html": [
       "<div>\n",
       "<style scoped>\n",
       "    .dataframe tbody tr th:only-of-type {\n",
       "        vertical-align: middle;\n",
       "    }\n",
       "\n",
       "    .dataframe tbody tr th {\n",
       "        vertical-align: top;\n",
       "    }\n",
       "\n",
       "    .dataframe thead th {\n",
       "        text-align: right;\n",
       "    }\n",
       "</style>\n",
       "<table border=\"1\" class=\"dataframe\">\n",
       "  <thead>\n",
       "    <tr style=\"text-align: right;\">\n",
       "      <th></th>\n",
       "      <th>year</th>\n",
       "      <th>status/ethnicity</th>\n",
       "      <th>id</th>\n",
       "    </tr>\n",
       "  </thead>\n",
       "  <tbody>\n",
       "    <tr>\n",
       "      <th>0</th>\n",
       "      <td>1990</td>\n",
       "      <td>UR nominee</td>\n",
       "      <td>1</td>\n",
       "    </tr>\n",
       "    <tr>\n",
       "      <th>1</th>\n",
       "      <td>1990</td>\n",
       "      <td>white nominee</td>\n",
       "      <td>3</td>\n",
       "    </tr>\n",
       "  </tbody>\n",
       "</table>\n",
       "</div>"
      ],
      "text/plain": [
       "   year status/ethnicity  id\n",
       "0  1990       UR nominee   1\n",
       "1  1990    white nominee   3"
      ]
     },
     "execution_count": 33,
     "metadata": {},
     "output_type": "execute_result"
    }
   ],
   "source": [
    "album_summary = merged[merged.category ==\"album-of-the-year\"].pivot_table(values='id', \n",
    "                                index=['year','status/ethnicity'], \n",
    "#                                 columns=[], \n",
    "                                aggfunc='count',\n",
    "                                fill_value=0)\n",
    "album_summary.reset_index(inplace=True)\n",
    "album_summary.head(2)"
   ]
  },
  {
   "cell_type": "code",
   "execution_count": 34,
   "id": "7662db40",
   "metadata": {
    "scrolled": true
   },
   "outputs": [
    {
     "data": {
      "image/png": "[encoded data removed]"
     },
     "metadata": {},
     "output_type": "display_data"
    }
   ],
   "source": [
    "%%R -i album_summary\n",
    "album_diverging <- album_summary %>%\n",
    "    mutate(id = ifelse(grepl(\"UR\", `status/ethnicity`), -id, id))\n",
    "album_diverging\n",
    "\n",
    "ggplot(album_diverging, aes(x = year, \n",
    "            y = id,\n",
    "             fill = `status/ethnicity`)) +\n",
    "scale_fill_manual(values = c(\"UR nominee\" = \"lightblue\",\"UR winner\" = \"blue\",'white winner' = 'red','white nominee'='pink'))+\n",
    "  geom_col() +\n",
    "  coord_flip() +\n",
    "  labs(title = \"Diversity of Album of the Year over the years\") +\n",
    "  theme_minimal()\n"
   ]
  },
  {
   "cell_type": "markdown",
   "id": "88663293",
   "metadata": {},
   "source": [
    "### Plotting racial makeup of both nominees and winners of \"Record of the Year\""
   ]
  },
  {
   "cell_type": "code",
   "execution_count": 35,
   "id": "bcd79ce9",
   "metadata": {},
   "outputs": [
    {
     "data": {
      "text/html": [
       "<div>\n",
       "<style scoped>\n",
       "    .dataframe tbody tr th:only-of-type {\n",
       "        vertical-align: middle;\n",
       "    }\n",
       "\n",
       "    .dataframe tbody tr th {\n",
       "        vertical-align: top;\n",
       "    }\n",
       "\n",
       "    .dataframe thead th {\n",
       "        text-align: right;\n",
       "    }\n",
       "</style>\n",
       "<table border=\"1\" class=\"dataframe\">\n",
       "  <thead>\n",
       "    <tr style=\"text-align: right;\">\n",
       "      <th></th>\n",
       "      <th>year</th>\n",
       "      <th>status/ethnicity</th>\n",
       "      <th>id</th>\n",
       "    </tr>\n",
       "  </thead>\n",
       "  <tbody>\n",
       "    <tr>\n",
       "      <th>0</th>\n",
       "      <td>1990</td>\n",
       "      <td>UR nominee</td>\n",
       "      <td>1</td>\n",
       "    </tr>\n",
       "    <tr>\n",
       "      <th>1</th>\n",
       "      <td>1990</td>\n",
       "      <td>white nominee</td>\n",
       "      <td>3</td>\n",
       "    </tr>\n",
       "  </tbody>\n",
       "</table>\n",
       "</div>"
      ],
      "text/plain": [
       "   year status/ethnicity  id\n",
       "0  1990       UR nominee   1\n",
       "1  1990    white nominee   3"
      ]
     },
     "execution_count": 35,
     "metadata": {},
     "output_type": "execute_result"
    }
   ],
   "source": [
    "record_summary = merged[merged.category ==\"record-of-the-year\"].pivot_table(values='id', \n",
    "                                index=['year','status/ethnicity'], \n",
    "#                                 columns=[], \n",
    "                                aggfunc='count',\n",
    "                                fill_value=0)\n",
    "record_summary.reset_index(inplace=True)\n",
    "record_summary.head(2)"
   ]
  },
  {
   "cell_type": "code",
   "execution_count": 50,
   "id": "73d8a753",
   "metadata": {},
   "outputs": [
    {
     "data": {
      "image/png": "[encoded data removed]"
     },
     "metadata": {},
     "output_type": "display_data"
    }
   ],
   "source": [
    "%%R -i record_summary\n",
    "record_diverging <- album_summary %>%\n",
    "    mutate(id = ifelse(grepl(\"UR\", `status/ethnicity`), -id, id))\n",
    "\n",
    "ggplot(record_diverging, aes(x = year, \n",
    "            y = id,\n",
    "             fill = `status/ethnicity`)) +\n",
    "scale_fill_manual(values = c(\"UR nominee\" = \"lightblue\",\"UR winner\" = \"blue\",'white winner' = 'red','white nominee'='pink'))+\n",
    "  geom_col() +\n",
    "  coord_flip() +\n",
    "  labs(title = \"Diversity of Record of the Year over the years\") +\n",
    "  theme_minimal()\n"
   ]
  },
  {
   "cell_type": "code",
   "execution_count": null,
   "id": "fda8ca7e",
   "metadata": {},
   "outputs": [],
   "source": []
  }
 ],
 "metadata": {
  "kernelspec": {
   "display_name": "Python 3 (ipykernel)",
   "language": "python",
   "name": "python3"
  },
  "language_info": {
   "codemirror_mode": {
    "name": "ipython",
    "version": 3
   },
   "file_extension": ".py",
   "mimetype": "text/x-python",
   "name": "python",
   "nbconvert_exporter": "python",
   "pygments_lexer": "ipython3",
   "version": "3.11.0rc2"
  },
  "vscode": {
   "interpreter": {
    "hash": "31f2aee4e71d21fbe5cf8b01ff0e069b9275f58929596ceb00d14d90e3e16cd6"
   }
  }
 },
 "nbformat": 4,
 "nbformat_minor": 5
}
